{
 "cells": [
  {
   "cell_type": "markdown",
   "id": "1b88774f",
   "metadata": {},
   "source": [
    "# Final Project"
   ]
  },
  {
   "cell_type": "markdown",
   "id": "c027f710",
   "metadata": {},
   "source": [
    "Візуалізації рівня захворюваності на Covid-19.\n",
    "\n",
    "1) Сумарна кількість випадків захворювання у світі на карті. + Графік зміни денної кількості випадків за часом для окремої країни.\n",
    "\n",
    "2) Інтерактивний графік який показує як змінювалася кількість нових випадків зараження кожного дня впродовж 2-ох років.\n",
    "\n",
    "3) Кількість випадків зараження залежно від регіону ВООЗ (всього 6 регіонів) та місяця. \n",
    "\n",
    "4) Рівень захворюваності в Україна у розрізі місяців та років.\n",
    "\n",
    "Для проету використовувався датасет з сайту WHO : https://covid19.who.int/info/"
   ]
  },
  {
   "cell_type": "code",
   "execution_count": null,
   "id": "a42f404c",
   "metadata": {},
   "outputs": [],
   "source": [
    "import pandas as pd\n",
    "import altair as alt\n",
    "import geopandas as gpd\n",
    "\n",
    "alt.data_transformers.enable('default', max_rows=None)"
   ]
  },
  {
   "cell_type": "code",
   "execution_count": null,
   "id": "6567ee89",
   "metadata": {},
   "outputs": [],
   "source": [
    "world = gpd.read_file('data/world-countries.json')\n",
    "world.head()"
   ]
  },
  {
   "cell_type": "code",
   "execution_count": null,
   "id": "253372de",
   "metadata": {},
   "outputs": [],
   "source": [
    "df = pd.read_csv('data/WHO-COVID-19-global-data.csv')\n",
    "df.head()"
   ]
  },
  {
   "cell_type": "markdown",
   "id": "acb061b9",
   "metadata": {},
   "source": [
    " Дані містять 8 колонок :\n",
    " - Date_reported : дата отримання інформації ВООЗ,  \n",
    " - Country_code : код країни в форматі Alpha-2,  \n",
    " - Country : назва країни,  \n",
    " - WHO_region : регіональний офіс ВООЗ, \"WHO Member States are grouped into six WHO regions -- \n",
    "     - Regional Office for Africa (AFRO), \n",
    "     - Regional Office for the Americas (AMRO), \n",
    "     - Regional Office for South-East Asia (SEARO), \n",
    "     - Regional Office for Europe (EURO), \n",
    "     - Regional Office for the Eastern Mediterranean (EMRO), \n",
    "     - and Regional Office for the Western Pacific (WPRO).\"\n",
    " - New_cases : кількість випадків захворюваності за добу,  \n",
    " - Cumulative_cases : сукупна кількість випадків за весь час до вказаної дати включно,  \n",
    " - New_deaths : кількість смертельних випадків за одну добу,  \n",
    " - Cumulative_death : сукупна кількість відома на дане число. "
   ]
  },
  {
   "cell_type": "code",
   "execution_count": null,
   "id": "4e47cd61",
   "metadata": {},
   "outputs": [],
   "source": [
    "df.drop(['New_deaths', 'Cumulative_deaths'], axis = 1, inplace = True)"
   ]
  },
  {
   "cell_type": "code",
   "execution_count": null,
   "id": "e036b653",
   "metadata": {},
   "outputs": [],
   "source": [
    "contry_codes = pd.read_csv('data/country-codes.csv')\n",
    "contry_codes.head()"
   ]
  },
  {
   "cell_type": "code",
   "execution_count": null,
   "id": "98573fc2",
   "metadata": {},
   "outputs": [],
   "source": [
    "contry_codes.drop(['country', 'numeric'], axis = 1, inplace = True)\n",
    "contry_codes.columns = ['Country_code', 'id']\n",
    "\n",
    "contry_codes.head()"
   ]
  },
  {
   "cell_type": "code",
   "execution_count": null,
   "id": "8823902e",
   "metadata": {},
   "outputs": [],
   "source": [
    "df = df.merge(contry_codes)\n",
    "df.head()"
   ]
  },
  {
   "cell_type": "code",
   "execution_count": null,
   "id": "34a20cdf",
   "metadata": {},
   "outputs": [],
   "source": [
    "df.drop(['Country_code'], axis = 1, inplace = True)\n",
    "df.columns = ['Date', 'Country', 'WHO_region', 'New_cases', 'Cumulative_cases', 'id']\n",
    "df.head()"
   ]
  },
  {
   "cell_type": "code",
   "execution_count": null,
   "id": "d022f636",
   "metadata": {},
   "outputs": [],
   "source": [
    "df['Date'] = df['Date'].astype('datetime64[ns]')\n",
    "df['Year']=df.Date.dt.year"
   ]
  },
  {
   "cell_type": "code",
   "execution_count": null,
   "id": "7d6d6817",
   "metadata": {},
   "outputs": [],
   "source": [
    "df.info()"
   ]
  },
  {
   "cell_type": "markdown",
   "id": "ec16a717",
   "metadata": {},
   "source": [
    "В колоці `New_cases`, котра відповідає кількості нових випадків за день були присутні значення > 0. Можливо малося на увазі, скільки людей одужало. Я замінила від'ємні значення на нуль, будемо вважати що, якщо значення від'ємне то в цей день не було випадків захворюваності. "
   ]
  },
  {
   "cell_type": "code",
   "execution_count": null,
   "id": "6d5fc042",
   "metadata": {},
   "outputs": [],
   "source": [
    "df.loc[df['New_cases'] < 0, 'New_cases'] = 0\n",
    "df.head()"
   ]
  },
  {
   "cell_type": "markdown",
   "id": "6ab9d3aa",
   "metadata": {},
   "source": [
    "## (1) Сумарна кількість випадків захворювання у світі на карті. + Графік зміни денної кількості випадків за часом для окремої країни."
   ]
  },
  {
   "cell_type": "markdown",
   "id": "4236316e",
   "metadata": {},
   "source": [
    "На карті буде зображена сумарна кількість випадків відома на 10.12.2021 (остання дата у датасеті)."
   ]
  },
  {
   "cell_type": "code",
   "execution_count": null,
   "id": "ddd52a17",
   "metadata": {},
   "outputs": [],
   "source": [
    "df_total_cases = df[df.Date == '2021-12-10']\n",
    "df_total_cases.head()"
   ]
  },
  {
   "cell_type": "markdown",
   "id": "7acf6ffc",
   "metadata": {},
   "source": [
    "Кількість випадків захворювання на карті передається кольором, від блідо жовтого до червоного. Червоний колір добре підходить щоб передати негативне зростання. \n",
    "\n",
    "Використовуючи звичайну лінійну Legend, буде важко зрозуміти якому числовому інтервалу відмовідає певний відтінок. Тому я використала alt.Bin, щоб розділити діапазон кольорів на окремі інтервали яким будуть відповідати певні числові значення. Я старалася підібрати таке розбиття, щоб деталізація не постраждала.\n",
    "\n",
    "Мінусом даної візуалізаці можуть бути пропуски на карті для пд. Судану і для Анарктиди, для них відсутні дані в датасеті. \n",
    "\n",
    "Ще одним мінусом є неточності у датасеті. Наприклад у Китаї сумарна кількість випадків відносно низька. Я думаю це пов'язано з тим, що не всі країни надавали свої дані ВООЗ."
   ]
  },
  {
   "cell_type": "code",
   "execution_count": null,
   "id": "b27cc6a2",
   "metadata": {},
   "outputs": [],
   "source": [
    "map_total_cases = alt.Chart(world, \n",
    "          title={\"text\": [\"Total cases of Covid-19 infections due to 10.12.2021\"], \n",
    "                 \"subtitle\": [\"hover over the required area for more information\"],\n",
    "                 \"subtitleColor\": '#333333'}\n",
    ").transform_lookup(\n",
    "    lookup = 'id',\n",
    "    from_ = alt.LookupData(data = df_total_cases, \n",
    "                           key = 'id',\n",
    "                           fields=['Cumulative_cases', 'Country']),\n",
    "    default = 'null'\n",
    ").project(type = 'equalEarth'\n",
    ").mark_geoshape(stroke = 'black').encode(\n",
    "    color = alt.Color('Cumulative_cases:Q', bin = alt.Bin(step = 5000000), title = 'number of cases', \n",
    "                      scale = alt.Scale(\n",
    "                          scheme = 'lightorange',\n",
    "                      ),\n",
    "                      legend = alt.Legend(\n",
    "                        format = '.1s',)\n",
    "                     ),   \n",
    "    tooltip = [\n",
    "        alt.Tooltip('name:N', title = 'country'),\n",
    "        alt.Tooltip('Cumulative_cases:N', title = 'number of cases'),        \n",
    "    ]\n",
    ")\n",
    "\n",
    "map_total_cases.properties(width = 800, height = 500, background = '#F9F9F9', padding = 25\n",
    ").configure_legend(titleFont = 'Times',\n",
    "                   labelFont = 'Times',\n",
    "                   titleFontSize = 14,\n",
    "                   labelFontSize = 14,\n",
    "                   gradientLength=350,\n",
    "                   orient = 'bottom'\n",
    ").configure_title(\n",
    "    fontSize=20,\n",
    "    font='Times',\n",
    ").configure_view(strokeWidth = 0)"
   ]
  },
  {
   "cell_type": "markdown",
   "id": "fc9b02d5",
   "metadata": {},
   "source": [
    "Наступний графік буде показувати денну кількість випадків впродовж двох років. \n",
    "\n",
    "Щоб стовпчики не накладалися один на одного я задала їм маленький size."
   ]
  },
  {
   "cell_type": "code",
   "execution_count": null,
   "id": "7398d7c0",
   "metadata": {},
   "outputs": [],
   "source": [
    "line_chart_total = alt.Chart(df,\n",
    "          title = 'Click on country to see amount of daily cases : '\n",
    ").mark_bar(color = '#de425b', size = 1.5).encode(\n",
    "    x = alt.X('Date:T', title = None),\n",
    "    y = alt.Y('New_cases:Q', \n",
    "              title = None, \n",
    "              axis = alt.Axis(\n",
    "                  format = '.1s',\n",
    "                  )\n",
    "              \n",
    "             ),\n",
    "    detail = alt.Detail('Country:N'),\n",
    ")"
   ]
  },
  {
   "cell_type": "markdown",
   "id": "d725994f",
   "metadata": {},
   "source": [
    "Тепер поєднаємо ці графіки у складне представлення.\n",
    "Верхній буде показувати розподіл сумарної кількості випадків на карті світу. А нижній зміну денної кількості випадків протягом двох років, для обраної країни.\n",
    "\n",
    "Щоб користувач зрозумів, що для того щоб переглянути динаміку для певної країни на неї потрібно натиснути, я написала про це взаголовку. Так користувач одразу зверне на це свою увагу.\n",
    "\n",
    "Вісь Y буде змінюватися залежно від обраної країни, це дозволить нам краще роздивитися динаміку для країн з маленькими значеннями.\n",
    "\n",
    "Мінус такого представлення - на нижньому графіку важко дізнатися точну кількість випадків для певного дня. І користувачу потрібно знати приблизне розташування країни на карті, щоб подивитися для неї інформацію"
   ]
  },
  {
   "cell_type": "code",
   "execution_count": null,
   "id": "7501e106",
   "metadata": {},
   "outputs": [],
   "source": [
    "select_country = alt.selection_single(on = 'click', fields = ['Country'], nearest = False, empty = 'none')"
   ]
  },
  {
   "cell_type": "code",
   "execution_count": null,
   "id": "b01aadf1",
   "metadata": {},
   "outputs": [],
   "source": [
    "alt.vconcat(map_total_cases.properties(width = 900, height = 400).add_selection(select_country), \n",
    "            line_chart_total.properties(width = 900, height = 250).transform_filter(select_country)\n",
    ").properties(background = '#F9F9F9', padding = 25\n",
    ").configure_title(font = 'Times', \n",
    "                  fontSize = 18, \n",
    "                  dy = -20, \n",
    "                  anchor='middle'\n",
    ").configure_legend(titleFont = 'Times',\n",
    "                   labelFont = 'Times',\n",
    "                   titleFontSize = 14,\n",
    "                   labelFontSize = 12,\n",
    "                   orient='none',\n",
    "                   legendX=5, legendY=320,\n",
    "                   direction='horizontal',\n",
    ").configure_axis(ticks = False,\n",
    "                 domain = False,\n",
    "                 gridDash = [2, 2],\n",
    "                 titleFont = 'Times',\n",
    "                 labelFont = 'Times',\n",
    "                 titleFontSize = 14,\n",
    "                 labelFontSize = 12,\n",
    "                 labelPadding = 5,\n",
    ")"
   ]
  },
  {
   "cell_type": "markdown",
   "id": "4801eaf9",
   "metadata": {},
   "source": [
    "## (2) Інтерактивний графік який показує, як змінювалася кількість нових випадків зараження кожного дня впродовж 2-ох років."
   ]
  },
  {
   "cell_type": "markdown",
   "id": "042e3735",
   "metadata": {},
   "source": [
    "Верхній графік буде відображати часовий проміжок, який користувач вибере на меншому нижньому графіку.\n",
    "\n",
    "Я не стала підписувати тут вісі, бо назва графіку вже описує їх.\n",
    "\n",
    "Я зробила верхній і нижній графік різних кольорів, щоб вони краще візуально розрізнялися. \n",
    "\n",
    "Вісь Y рухома, значення на ній міняються залежно він вибраного інтервалу. Це дозволить детальніше розглянути місця де значення Y дуже маленькі.\n",
    "\n",
    "Кожен стовпчик на графіку ввідображає кількість випадків зараження за день у всьому світі (сума по країнах). Я обрала bar chart, бо за допомогою стовпчиків зручно передавати і порівнювати кількісні показники.\n",
    "\n",
    "Я зробила кожен стовпчик досить маленького розміру, щоб вони не накладалися один на одного. "
   ]
  },
  {
   "cell_type": "code",
   "execution_count": null,
   "id": "cedf852d",
   "metadata": {},
   "outputs": [],
   "source": [
    "date_brush = alt.selection_interval(encodings=['x'])"
   ]
  },
  {
   "cell_type": "code",
   "execution_count": null,
   "id": "1b3d34f3",
   "metadata": {
    "scrolled": false
   },
   "outputs": [],
   "source": [
    "bar_chart_daily = alt.Chart(df, title = 'Daily number of Covid-19 infections (Global)'\n",
    ").mark_bar(color = '#e06f45', size = 1.5).encode(\n",
    "    x = alt.X('Date:T', title = None),\n",
    "    y = alt.Y('New_cases:Q', \n",
    "              axis = alt.Axis(\n",
    "                  format = '.2s',\n",
    "                  ),\n",
    "              aggregate = 'sum', \n",
    "              title = None\n",
    "             )\n",
    ")\n",
    "\n",
    "bar_chart_daily_small = alt.Chart(df, title = 'Select interval'\n",
    ").mark_bar(color = '#003f5c', size = 1.5).encode(\n",
    "    x = alt.X('Date:T', title = None),\n",
    "    y = alt.Y('New_cases:Q', \n",
    "              axis = alt.Axis(\n",
    "                  format = '.2s',\n",
    "                  ),\n",
    "              aggregate = 'sum', \n",
    "              title = None\n",
    "             )\n",
    ")\n",
    "\n",
    "alt.vconcat(bar_chart_daily.properties(width = 900, height = 400).transform_filter(date_brush), \n",
    "            bar_chart_daily_small.properties(width = 900, height = 100).add_selection(date_brush)\n",
    ").properties(background = '#F9F9F9', \n",
    "             padding = 25\n",
    ").configure_title(font = 'Times', \n",
    "                  fontSize = 18, \n",
    "                  anchor='middle'\n",
    ").configure_legend(titleFont = 'Times',\n",
    "                   labelFont = 'Times',\n",
    "                   titleFontSize = 14,\n",
    "                   labelFontSize = 14,\n",
    ").configure_axis(ticks = False,\n",
    "                 domain = False,\n",
    "                 gridDash = [2, 2],\n",
    "                 titleFont = 'Times',\n",
    "                 labelFont = 'Times',\n",
    "                 titleFontSize = 14,\n",
    "                 labelFontSize = 12\n",
    ")"
   ]
  },
  {
   "cell_type": "markdown",
   "id": "ee300471",
   "metadata": {},
   "source": [
    "## (3) Кількість випадків зараження залежно від регіону ВООЗ (всього 6 регіонів) та місяця"
   ]
  },
  {
   "cell_type": "markdown",
   "id": "59111317",
   "metadata": {},
   "source": [
    "Кількісні значення для різних регіонів позначені різними кольорами. Щоб подивитися дані лише для якогось певного регіону, можна обрати його на легенді. За замовчуванням всі регіони вважаються виділеними."
   ]
  },
  {
   "cell_type": "markdown",
   "id": "2fad3015",
   "metadata": {},
   "source": [
    "На графіку передається сума випадків захворюваності за місяць. \n"
   ]
  },
  {
   "cell_type": "markdown",
   "id": "2d06559f",
   "metadata": {},
   "source": [
    "Щоб дінатися точну кількість випадків захворювання у певний час для окремого регіону, можна скористатися Tooltip (підказка про це взаголовоку).\n",
    "\n",
    "Сегменти всередині кожної колонки посортовані, так ми зможемо одразу визначити у якому регіоні за певний місяць, було найбільше випадків захворювання, а в якому найменше.\n",
    "\n",
    "Мінуси цього представлення :\n",
    " - Рухома вісь Y не дозволяє порівняти регіони між собою (але так ми можемо ближче роздивитися маленькі значення)\n",
    " - в bar chart якщо дивитися на всі регіони одночасно, дані для кожного з них зміщені. Щоб дізнатися точне число випадків захворювання, потрібно переключитися на окремий регіон, або скористатися Tooltip."
   ]
  },
  {
   "cell_type": "code",
   "execution_count": null,
   "id": "9cda8df9",
   "metadata": {},
   "outputs": [],
   "source": [
    "select_legend_region = alt.selection_single(fields = ['WHO_region'], bind = 'legend', nearest = False, empty = 'all', name = 'Select')\n",
    "\n",
    "alt.Chart(df, \n",
    "          title={\"text\": [\"Month number of Covid-19 infections depending on WHO region\"], \n",
    "                 \"subtitle\": [\"(hover over the required column for more information / select region on legend)\"],\n",
    "                 \"subtitleColor\": '#333333'}\n",
    ").mark_bar().encode(\n",
    "    x = alt.X('month(Date):O', title = None),\n",
    "    y = alt.Y('New_cases:Q', \n",
    "              aggregate = 'sum', \n",
    "              title = None,\n",
    "              axis = alt.Axis(\n",
    "                  format = '.1s',\n",
    "                  )),\n",
    "    color = alt.Color('WHO_region:N',\n",
    "                      title = 'select WHO region',\n",
    "                      scale = alt.Scale(\n",
    "                          range = [\"#003f5c\", \"#444e86\", \"#955196\", \"#dd5182\", \"#ff6e54\", \"#ffa600\"],\n",
    "                          domain = ['AFRO', 'AMRO', 'SEARO', 'EURO', 'EMRO', 'WPRO'],\n",
    "                      )),\n",
    "    order = alt.Order(field = 'New_cases', type = 'quantitative', aggregate = 'sum', sort = 'ascending'),\n",
    "    tooltip = [\n",
    "        alt.Tooltip('month(Date):O', title = 'Month'),\n",
    "        alt.Tooltip('WHO_region:N', title = 'Region'),\n",
    "        alt.Tooltip('New_cases:Q', aggregate = 'sum', title = 'Number of cases'),\n",
    "        \n",
    "    ],\n",
    ").properties(width = 800, \n",
    "             height = 400,\n",
    "             background = '#F9F9F9', \n",
    "             padding = 25\n",
    ").configure_legend(titleFont = 'Times',\n",
    "                   labelFont = 'Times',\n",
    "                   titleFontSize = 14,\n",
    "                   labelFontSize = 13,\n",
    "                   symbolType = 'circle', \n",
    "                   symbolOpacity = 1.0 \n",
    ").configure_title(font = 'Times', \n",
    "                  fontSize = 18, \n",
    "                  dy = -10, \n",
    "                  anchor='middle'\n",
    ").configure_axis(ticks = False,\n",
    "                 domain = False,\n",
    "                 gridDash = [3, 3],\n",
    "                 titleFont = 'Times',\n",
    "                 labelFont = 'Times',\n",
    "                 labelPadding = 10,\n",
    "                 titleFontSize = 14,labelAngle = 0\n",
    ").add_selection(select_legend_region\n",
    ").transform_filter(select_legend_region\n",
    ").configure_view(strokeWidth = 0)"
   ]
  },
  {
   "cell_type": "markdown",
   "id": "555f0f9e",
   "metadata": {},
   "source": [
    "## (4) Рівень захворюваності в Україна у розрізі місяців та років"
   ]
  },
  {
   "cell_type": "code",
   "execution_count": null,
   "id": "0ddda38e",
   "metadata": {},
   "outputs": [],
   "source": [
    "Ukraine_df = df[df.Country == 'Ukraine']\n",
    "Ukraine_df.head()"
   ]
  },
  {
   "cell_type": "markdown",
   "id": "fb6024eb",
   "metadata": {},
   "source": [
    "На даному графіку порівнюється :\n",
    " - рівень захворюваності у 2020 та у 2021\n",
    " - рівень захворюваності у різні місяці (на графіку показана максимальна кількість випадків за день, яка зустрічалася у вказаний місяць)\n",
    " \n",
    "Для того, щоб передати кількість випадків інфікування, я використала bar chart, стовпчиками буде зручно передавати кількісні показники і потім візуально їх порівнювати.\n",
    "\n",
    "Я вирішила відображати максимальне значення денних випадків інфікування, яке зустрічалося за місяць. Як альтернативу, можна було б передавати середнє значення за місяць або ж суму. Але мені здалось що було б цікаво побачити саме \"стелю\" кожного місяця.\n",
    "\n",
    "Щоб порівняти між собою 2020 і 2021 роки, я використала кольори. Стовпчики для 2020 подані темним синім кольором, а для 2021 - жовтим. Ці кольори доситатньо відрізняються один від одного, тому на графіку буде легко розмежувати 2020 і 2021 роки.\n",
    "\n",
    "Я забрала підписи років з осі X, тому що це можна дізнатися на легенді, і в нас тільки два роки. \n",
    "\n",
    "Також я додала selection, щоб на легенді можна було виділити значення тільки для одного року, і порівняти значення у різні місяці.\n",
    "\n",
    "Також я додала Tooltip, щоб можна було подивитися на точний числовий показик при наведенні на колонку. І підказку про це в підзаголовок."
   ]
  },
  {
   "cell_type": "code",
   "execution_count": null,
   "id": "adbb6486",
   "metadata": {},
   "outputs": [],
   "source": [
    "input_radio = alt.binding_radio(options = Ukraine_df.Year.unique())\n",
    "select_year = alt.selection_single(fields = ['Year'], bind = 'legend', name = 'Select year', empty = 'all')"
   ]
  },
  {
   "cell_type": "code",
   "execution_count": null,
   "id": "27289ef8",
   "metadata": {},
   "outputs": [],
   "source": [
    "alt.Chart(Ukraine_df,\n",
    "          title={\"text\": [\"The incidence of Covid-19 in Ukraine in terms of months and years\"], \n",
    "                 \"subtitle\": [\"(hover over the required column for more information / select year on Legend)\"],\n",
    "                 \"subtitleColor\": '#333333'}\n",
    ").mark_bar().encode(\n",
    "    y = alt.Y('New_cases:Q',\n",
    "              aggregate = 'max',\n",
    "              axis = alt.Axis(\n",
    "                  format = '.1s',\n",
    "                  ),\n",
    "              title = 'Max number of cases per day in month', # \"the maximum value of cases per day during the month\"\n",
    "             ),\n",
    "    x = alt.X('year(Date):O', title = None, axis = None),\n",
    "    color = alt.Color('Year:O', \n",
    "                      title = 'select Year',\n",
    "                      scale = alt.Scale(\n",
    "                          range = [\"#003f5c\", \"#ffa600\"],\n",
    "                          domain = [2020, 2021],\n",
    "                      )),\n",
    "    column = alt.Column('month(Date):O', title = None),\n",
    "    tooltip = [\n",
    "        alt.Tooltip('year(Date):O', aggregate = 'max', title = 'year'),\n",
    "        alt.Tooltip('month(Date):O', aggregate = 'max', title = 'month'),\n",
    "        alt.Tooltip('New_cases:Q', aggregate = 'max', title = 'number of cases')\n",
    "    ],\n",
    "    opacity = alt.condition(\n",
    "        select_year,\n",
    "        alt.value(1.0),\n",
    "        alt.value(0.0)\n",
    "    )\n",
    ").add_selection(\n",
    "    select_year\n",
    ").properties(width = 500/12, height = 400, background = '#F9F9F9', padding = 25\n",
    ").configure_title(font = 'Times', \n",
    "                  fontSize = 18, \n",
    "                  dy = -20, \n",
    "                  anchor='middle'\n",
    ").configure_legend(titleFont = 'Times',\n",
    "                   labelFont = 'Times',\n",
    "                   titleFontSize = 14,\n",
    "                   labelFontSize = 14,\n",
    ").configure_axis(ticks = False,\n",
    "                 domain = False,\n",
    "                 gridDash = [3, 3],\n",
    "                 titleFont = 'Times',\n",
    "                 labelFont = 'Times',\n",
    "                 titleFontSize = 14,\n",
    ").configure_view(strokeWidth = 0)"
   ]
  },
  {
   "cell_type": "markdown",
   "id": "8f2dab92",
   "metadata": {},
   "source": [
    "---- **Альтернатива**"
   ]
  },
  {
   "cell_type": "code",
   "execution_count": null,
   "id": "c1c7690a",
   "metadata": {},
   "outputs": [],
   "source": [
    "import warnings\n",
    "warnings.filterwarnings('ignore')\n",
    "\n",
    "for m in range(1, 13):\n",
    "    max_2020 = Ukraine_df.loc[(Ukraine_df['Date'].dt.month == m) & (Ukraine_df['Date'].dt.year == 2020)]['New_cases'].max()\n",
    "    Ukraine_df.loc[((Ukraine_df['Date'].dt.month == m) & (Ukraine_df['Date'].dt.year == 2020)), 'Max_2020'] = max_2020\n",
    "    \n",
    "    max_2021 = Ukraine_df.loc[(Ukraine_df['Date'].dt.month == m) & (Ukraine_df['Date'].dt.year == 2021)]['New_cases'].max()\n",
    "    Ukraine_df.loc[((Ukraine_df['Date'].dt.month == m) & (Ukraine_df['Date'].dt.year == 2021)), 'Max_2021'] = max_2021\n",
    "    \n",
    "Ukraine_df.head()"
   ]
  },
  {
   "cell_type": "markdown",
   "id": "417b1bce",
   "metadata": {},
   "source": [
    "Як альтернативу Bar Chart, я вирішила використати гантельковий графік. По осі Y йдуть місяці, по осі X - кількість випадків захворюваності. Роки, як і в попередньому графіку, передаються кольорами.\n",
    "\n",
    "Цей графік зручний, для порівняння між собою двох років, завдяки лінії ми можемо бачити різницю між 2020 і 2021 роком.\n",
    "\n",
    "Мінус: якщо різниця між роками маленька, то цієї лінії не видно на графіку."
   ]
  },
  {
   "cell_type": "code",
   "execution_count": null,
   "id": "4fa101c7",
   "metadata": {},
   "outputs": [],
   "source": [
    "lines = alt.Chart(Ukraine_df, \n",
    "                  title={\"text\": [\"The incidence of Covid-19 in Ukraine in terms of months and years\"], \n",
    "                 \"subtitle\": [\"(hover over the required dot for more information)\"],\n",
    "                 \"subtitleColor\": '#333333'}\n",
    ").mark_line().encode(\n",
    "    x = alt.X('max(Max_2020):Q', ),\n",
    "    x2 = alt.X2('max(Max_2021):Q', ),\n",
    "    y = alt.Y('month(Date):O', ))\n",
    "\n",
    "points = alt.Chart(Ukraine_df).mark_circle(size = 100).encode(\n",
    "    x = alt.X('New_cases:Q', \n",
    "              aggregate = 'max', \n",
    "              title = 'Max number of cases per day in month',\n",
    "              axis = alt.Axis(\n",
    "                  format = '.2s',\n",
    "                  ),),\n",
    "    y = alt.Y('month(Date):O', title = None),\n",
    "    color  = alt.Color('year(Date):O', title = 'Year',\n",
    "                       scale = alt.Scale(\n",
    "                          range = [\"#003f5c\", \"#ffa600\"],\n",
    "                          domain = [2020, 2021],\n",
    "                      )),\n",
    "    tooltip = [\n",
    "        alt.Tooltip('year(Date):O', aggregate = 'max', title = 'year'),\n",
    "        alt.Tooltip('month(Date):O', aggregate = 'max', title = 'month'),\n",
    "        alt.Tooltip('New_cases:Q', aggregate = 'max', title = 'number of cases')\n",
    "    ],\n",
    ")\n",
    "\n",
    "alt.layer(lines, points).properties(width = 800, height = 600, background = '#F9F9F9', padding = 25\n",
    ").configure_title(font = 'Times', \n",
    "                  fontSize = 18, \n",
    "                  dy = -20, \n",
    "                  anchor='middle'\n",
    ").configure_legend(titleFont = 'Times',\n",
    "                   labelFont = 'Times',\n",
    "                   titleFontSize = 14,\n",
    "                   labelFontSize = 14,\n",
    ").configure_axis(ticks = False,\n",
    "                 domain = False,\n",
    "                 gridDash = [3, 3],\n",
    "                 titleFont = 'Times',\n",
    "                 labelFont = 'Times',\n",
    "                 titleFontSize = 14,\n",
    "                 labelFontSize = 13,\n",
    "                 labelPadding = 10,\n",
    "                 titlePadding = 10\n",
    ").configure_view(strokeWidth = 0)"
   ]
  },
  {
   "cell_type": "code",
   "execution_count": null,
   "id": "a810b3bb",
   "metadata": {},
   "outputs": [],
   "source": []
  }
 ],
 "metadata": {
  "kernelspec": {
   "display_name": "Python 3 (ipykernel)",
   "language": "python",
   "name": "python3"
  },
  "language_info": {
   "codemirror_mode": {
    "name": "ipython",
    "version": 3
   },
   "file_extension": ".py",
   "mimetype": "text/x-python",
   "name": "python",
   "nbconvert_exporter": "python",
   "pygments_lexer": "ipython3",
   "version": "3.9.7"
  }
 },
 "nbformat": 4,
 "nbformat_minor": 5
}
